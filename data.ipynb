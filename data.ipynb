{
 "cells": [
  {
   "cell_type": "code",
   "execution_count": 5,
   "id": "8e96e7f6",
   "metadata": {},
   "outputs": [],
   "source": [
    "import pandas as pd \n",
    "\n",
    "path = \"books_scraped.csv\"\n",
    "\n",
    "df = pd.read_csv(path, sep = ',')"
   ]
  },
  {
   "cell_type": "code",
   "execution_count": 6,
   "id": "6fce2f19",
   "metadata": {},
   "outputs": [
    {
     "name": "stdout",
     "output_type": "stream",
     "text": [
      "                                   Title       Book_category Star_rating  \\\n",
      "0                   A Light in the Attic              Poetry       Three   \n",
      "1                     Tipping the Velvet  Historical Fiction         One   \n",
      "2                             Soumission             Fiction         One   \n",
      "3                          Sharp Objects             Mystery        Four   \n",
      "4  Sapiens: A Brief History of Humankind             History        Five   \n",
      "\n",
      "   Price     Stock  Quantity  \n",
      "0  51.77  In stock        22  \n",
      "1  53.74  In stock        20  \n",
      "2  50.10  In stock        20  \n",
      "3  47.82  In stock        20  \n",
      "4  54.23  In stock        20  \n"
     ]
    }
   ],
   "source": [
    "print(df.head(5))"
   ]
  },
  {
   "cell_type": "code",
   "execution_count": null,
   "id": "8bae1c87",
   "metadata": {},
   "outputs": [],
   "source": []
  }
 ],
 "metadata": {
  "kernelspec": {
   "display_name": "py4e02",
   "language": "python",
   "name": "python3"
  },
  "language_info": {
   "codemirror_mode": {
    "name": "ipython",
    "version": 3
   },
   "file_extension": ".py",
   "mimetype": "text/x-python",
   "name": "python",
   "nbconvert_exporter": "python",
   "pygments_lexer": "ipython3",
   "version": "3.12.11"
  }
 },
 "nbformat": 4,
 "nbformat_minor": 5
}
